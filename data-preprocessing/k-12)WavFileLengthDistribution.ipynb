{
 "cells": [
  {
   "cell_type": "code",
   "execution_count": null,
   "metadata": {},
   "outputs": [],
   "source": [
    "import os\n",
    "import torchaudio\n",
    "import pandas as pd\n",
    "import matplotlib.pyplot as plt\n",
    "\n",
    "# 데이터셋 디렉토리 지정\n",
    "data_dir = \"/data/seungmin/dataset/k-12_training_processed/number_or_english\"\n",
    "\n",
    "# WAV 파일 길이를 저장할 리스트\n",
    "wav_lengths = []\n",
    "missing_files = []\n",
    "\n",
    "# 파일 리스트 가져오기\n",
    "for root, _, files in os.walk(data_dir):\n",
    "    for file in files:\n",
    "        if file.endswith(\".wav\"):\n",
    "            wav_path = os.path.join(root, file)\n",
    "            try:\n",
    "                # WAV 파일 로드 및 길이 계산\n",
    "                waveform, sample_rate = torchaudio.load(wav_path)\n",
    "                duration = waveform.shape[1] / sample_rate  # 초 단위 변환\n",
    "                wav_lengths.append(duration)\n",
    "            except Exception as e:\n",
    "                print(f\"⚠️ {wav_path} 처리 중 오류 발생: {e}\")\n",
    "                missing_files.append(wav_path)\n",
    "\n",
    "# 데이터프레임 생성\n",
    "df = pd.DataFrame({\"speech_length\": wav_lengths})\n",
    "\n",
    "# 기본 통계 출력\n",
    "print(\"📌 총 매칭된 wav 파일 개수:\", len(wav_lengths))\n",
    "print(df[\"speech_length\"].describe(percentiles=[0.95, 0.99]))\n",
    "\n",
    "# 히스토그램 시각화\n",
    "plt.figure(figsize=(10, 5))\n",
    "plt.hist(df[\"speech_length\"], bins=50, alpha=0.75, edgecolor=\"black\")\n",
    "plt.xlabel(\"wav length (sec)\")\n",
    "plt.ylabel(\"file nums\")\n",
    "plt.title(\"k-12 wav file length distribution\")\n",
    "plt.grid(True)\n",
    "plt.show()\n",
    "\n",
    "# 누락된 wav 파일 개수 확인\n",
    "print(f\"❌ 존재하지 않는 wav 파일 개수: {len(missing_files)}\")\n",
    "if missing_files:\n",
    "    print(\"❌ 누락된 일부 파일 샘플:\", missing_files[:5])\n"
   ]
  }
 ],
 "metadata": {
  "kernelspec": {
   "display_name": "seungmin_venv",
   "language": "python",
   "name": "python3"
  },
  "language_info": {
   "codemirror_mode": {
    "name": "ipython",
    "version": 3
   },
   "file_extension": ".py",
   "mimetype": "text/x-python",
   "name": "python",
   "nbconvert_exporter": "python",
   "pygments_lexer": "ipython3",
   "version": "3.10.16"
  }
 },
 "nbformat": 4,
 "nbformat_minor": 2
}
