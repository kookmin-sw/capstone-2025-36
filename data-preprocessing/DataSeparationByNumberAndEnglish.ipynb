{
 "cells": [
  {
   "cell_type": "code",
   "execution_count": 3,
   "metadata": {},
   "outputs": [
    {
     "name": "stdout",
     "output_type": "stream",
     "text": [
      "✅ 데이터셋 저장 완료\n"
     ]
    }
   ],
   "source": [
    "import os\n",
    "import re\n",
    "import shutil\n",
    "\n",
    "# 데이터셋 경로\n",
    "data_dir = \"/data/seungmin/dataset/k-12/Training-label\"\n",
    "source_audio_base = \"/data/seungmin/dataset/k-12/Training-source\"\n",
    "\n",
    "# 저장할 경로\n",
    "output_dir_and = \"/data/seungmin/dataset/k-12_processed/number_and_english\"\n",
    "output_dir_or = \"/data/seungmin/dataset/k-12_processed/number_or_english\"\n",
    "\n",
    "# 숫자와 영어 모두 포함 여부 확인\n",
    "def has_number_and_english(text):\n",
    "    return bool(re.search(r'\\d', text)) and bool(re.search(r'[A-Za-z]', text))\n",
    "\n",
    "# 숫자 or 영어 포함 여부\n",
    "def has_number_or_english(text):\n",
    "    return bool(re.search(r'[A-Za-z0-9]', text))\n",
    "\n",
    "for root, _, files in os.walk(data_dir):\n",
    "    for file in files:\n",
    "        if file.endswith('.txt') and not file.startswith('._'):\n",
    "            txt_file_path = os.path.join(root, file)\n",
    "\n",
    "            with open(txt_file_path, 'r', encoding='utf-8') as f:\n",
    "                text = f.read().strip()\n",
    "\n",
    "            # 상대경로 기반 고유 파일명 생성\n",
    "            relative_path = os.path.relpath(root, data_dir)\n",
    "            unique_name = relative_path.replace(os.sep, '_') + '_' + file\n",
    "\n",
    "            # 매칭되는 wav 파일 경로\n",
    "            wav_src_path = os.path.join(\n",
    "                source_audio_base,\n",
    "                relative_path,\n",
    "                file.replace('.txt', '.wav')\n",
    "            )\n",
    "\n",
    "            if has_number_and_english(text):\n",
    "                target_txt = os.path.join(output_dir_and, unique_name)\n",
    "                target_wav_path = os.path.join(output_dir_and, unique_name.replace('.txt', '.wav'))\n",
    "\n",
    "                os.makedirs(output_dir_and, exist_ok=True)\n",
    "                shutil.copy2(txt_file_path, target_txt)\n",
    "                shutil.copy2(wav_src_path, target_wav_path)\n",
    "\n",
    "            elif has_number_or_english(text):\n",
    "                target_txt_or = os.path.join(output_dir_or, unique_name)\n",
    "                target_wav_or = os.path.join(output_dir_or, unique_name.replace('.txt', '.wav'))\n",
    "\n",
    "                os.makedirs(output_dir_or, exist_ok=True)\n",
    "                shutil.copy2(txt_file_path, target_txt_or)\n",
    "                shutil.copy2(wav_src_path, target_wav_or)\n",
    "\n",
    "print(\"데이터셋 저장 완료\")\n"
   ]
  }
 ],
 "metadata": {
  "kernelspec": {
   "display_name": "seungmin_venv",
   "language": "python",
   "name": "python3"
  },
  "language_info": {
   "codemirror_mode": {
    "name": "ipython",
    "version": 3
   },
   "file_extension": ".py",
   "mimetype": "text/x-python",
   "name": "python",
   "nbconvert_exporter": "python",
   "pygments_lexer": "ipython3",
   "version": "3.10.16"
  }
 },
 "nbformat": 4,
 "nbformat_minor": 2
}
