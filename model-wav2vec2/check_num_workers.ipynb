{
 "cells": [
  {
   "cell_type": "code",
   "execution_count": null,
   "metadata": {},
   "outputs": [
    {
     "name": "stdout",
     "output_type": "stream",
     "text": [
      "num_workers=0: 0.3505 sec\n",
      "num_workers=4: 4.9499 sec\n",
      "num_workers=8: 7.7340 sec\n",
      "num_workers=12: 10.2887 sec\n",
      "num_workers=16: 13.5619 sec\n",
      "num_workers=20: 14.3876 sec\n",
      "num_workers=24: 17.0182 sec\n",
      "num_workers=28: 19.1535 sec\n",
      "num_workers=32: 22.6819 sec\n",
      "최적 num_workers 값: 0\n"
     ]
    },
    {
     "ename": "",
     "evalue": "",
     "output_type": "error",
     "traceback": [
      "\u001b[1;31m현재 셀 또는 이전 셀에서 코드를 실행하는 동안 Kernel이 충돌했습니다. \n",
      "\u001b[1;31m셀의 코드를 검토하여 가능한 오류 원인을 식별하세요. \n",
      "\u001b[1;31m자세한 내용을 보려면 <a href='https://aka.ms/vscodeJupyterKernelCrash'>여기</a>를 클릭하세요. \n",
      "\u001b[1;31m자세한 내용은 Jupyter <a href='command:jupyter.viewOutput'>로그</a>를 참조하세요."
     ]
    }
   ],
   "source": [
    "import torch\n",
    "import time\n",
    "from torch.utils.data import DataLoader, Dataset\n",
    "\n",
    "class DummyDataset(Dataset):\n",
    "    def __init__(self, size=10000):\n",
    "        self.data = torch.randn(size, 3, 224, 224)  # 가상의 이미지 데이터\n",
    "        self.labels = torch.randint(0, 10, (size,))\n",
    "    \n",
    "    def __len__(self):\n",
    "        return len(self.data)\n",
    "    \n",
    "    def __getitem__(self, idx):\n",
    "        return self.data[idx], self.labels[idx]\n",
    "\n",
    "def find_optimal_num_workers():\n",
    "    dataset = DummyDataset()\n",
    "    batch_size = 64\n",
    "    best_time = float('inf')\n",
    "    best_workers = 0\n",
    "    \n",
    "    for num_workers in range(0, 33, 4):  # 0, 4, 8, 12, 16, 20, 24, 28, 32 테스트\n",
    "        loader = DataLoader(dataset, batch_size=batch_size, num_workers=num_workers, pin_memory=True)\n",
    "        start_time = time.time()\n",
    "        for _ in range(5):  # 5배치만 로딩 테스트\n",
    "            _ = next(iter(loader))\n",
    "        elapsed_time = time.time() - start_time\n",
    "        \n",
    "        print(f\"num_workers={num_workers}: {elapsed_time:.4f} sec\")\n",
    "        if elapsed_time < best_time:\n",
    "            best_time = elapsed_time\n",
    "            best_workers = num_workers\n",
    "    \n",
    "    print(f\"최적 num_workers 값: {best_workers}\")\n",
    "    return best_workers\n",
    "\n",
    "optimal_workers = find_optimal_num_workers()\n"
   ]
  }
 ],
 "metadata": {
  "kernelspec": {
   "display_name": "seungminENV_pip",
   "language": "python",
   "name": "python3"
  },
  "language_info": {
   "codemirror_mode": {
    "name": "ipython",
    "version": 3
   },
   "file_extension": ".py",
   "mimetype": "text/x-python",
   "name": "python",
   "nbconvert_exporter": "python",
   "pygments_lexer": "ipython3",
   "version": "3.12.9"
  }
 },
 "nbformat": 4,
 "nbformat_minor": 2
}
