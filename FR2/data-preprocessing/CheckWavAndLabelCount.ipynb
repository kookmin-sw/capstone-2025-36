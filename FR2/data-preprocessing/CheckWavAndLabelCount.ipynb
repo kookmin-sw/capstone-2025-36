{
 "cells": [
  {
   "cell_type": "code",
   "execution_count": 7,
   "metadata": {},
   "outputs": [
    {
     "name": "stdout",
     "output_type": "stream",
     "text": [
      "감지된 wav 파일 개수: 917\n",
      "일부 파일 샘플: ['/data/seungmin/dataset/kr_univ_validation_processed/number_and_english/arch_C02841_U00039.wav', '/data/seungmin/dataset/kr_univ_validation_processed/number_and_english/arch_C08330_U00149.wav', '/data/seungmin/dataset/kr_univ_validation_processed/number_and_english/arch_C27601_U00556.wav', '/data/seungmin/dataset/kr_univ_validation_processed/number_and_english/arch_C02193_U00342.wav', '/data/seungmin/dataset/kr_univ_validation_processed/number_and_english/arch_C06613_U00428.wav']\n",
      "감지된 JSON 파일 개수: 917\n",
      "일부 파일 샘플: ['/data/seungmin/dataset/kr_univ_validation_processed/number_and_english/arch_C02870_U00282.json', '/data/seungmin/dataset/kr_univ_validation_processed/number_and_english/arch_C02587_U00261.json', '/data/seungmin/dataset/kr_univ_validation_processed/number_and_english/arch_C02193_U00241.json', '/data/seungmin/dataset/kr_univ_validation_processed/number_and_english/arch_C03974_U00219.json', '/data/seungmin/dataset/kr_univ_validation_processed/number_and_english/arch_C06620_U00431.json']\n"
     ]
    }
   ],
   "source": [
    "# wav 파일, json 파일 개수 확인\n",
    "\n",
    "# kr_univ_lec\n",
    "\n",
    "import os\n",
    "\n",
    "data_dir = \"/data/seungmin/dataset/kr_univ_validation_processed/number_and_english\"\n",
    "\n",
    "\n",
    "wav_files = []\n",
    "for root, _, files in os.walk(data_dir):\n",
    "    for file in files:\n",
    "        if file.endswith(\".wav\") and not file.startswith(\"._\"):  # `._` 파일 제외\n",
    "            wav_files.append(os.path.join(root, file))\n",
    "\n",
    "print(\"감지된 wav 파일 개수:\", len(wav_files))\n",
    "print(\"일부 파일 샘플:\", wav_files[:5])  # 처음 5개 파일 확인\n",
    "\n",
    "\n",
    "json_files = []\n",
    "for root, _, files in os.walk(data_dir):\n",
    "    for file in files:\n",
    "        if file.endswith(\".json\") and not file.startswith(\"._\"):  # `._` 파일 제외\n",
    "            json_files.append(os.path.join(root, file))\n",
    "\n",
    "print(\"감지된 JSON 파일 개수:\", len(json_files))\n",
    "print(\"일부 파일 샘플:\", json_files[:5])  # 처음 5개 파일 확인"
   ]
  },
  {
   "cell_type": "code",
   "execution_count": 12,
   "metadata": {},
   "outputs": [
    {
     "name": "stdout",
     "output_type": "stream",
     "text": [
      "감지된 wav 파일 개수: 47134\n",
      "감지된 txt 파일 개수: 47134\n"
     ]
    }
   ],
   "source": [
    "# wav 파일, txt 파일 개수 확인\n",
    "\n",
    "# k-12\n",
    "\n",
    "import os\n",
    "\n",
    "data_dir = \"/data/seungmin/dataset/k-12_training_processed/number_and_english\"\n",
    "\n",
    "\n",
    "wav_files = []\n",
    "for root, _, files in os.walk(data_dir):\n",
    "    for file in files:\n",
    "        if file.endswith(\".wav\") and not file.startswith(\"._\"):  # `._` 파일 제외\n",
    "            wav_files.append(os.path.join(root, file))\n",
    "\n",
    "print(\"감지된 wav 파일 개수:\", len(wav_files))\n",
    "# print(\"일부 파일 샘플:\", wav_files[:5])  # 처음 5개 파일 확인\n",
    "\n",
    "txt_files = []\n",
    "for root, _, files in os.walk(data_dir):\n",
    "    for file in files:\n",
    "        if file.endswith(\".txt\") and not file.startswith(\"._\"):  # `._` 파일 제외\n",
    "            txt_files.append(os.path.join(root, file))\n",
    "\n",
    "print(\"감지된 txt 파일 개수:\", len(txt_files))\n",
    "# print(\"일부 파일 샘플:\", txt_files[:5])  # 처음 5개 파일 확인"
   ]
  }
 ],
 "metadata": {
  "kernelspec": {
   "display_name": "seungmin_venv",
   "language": "python",
   "name": "python3"
  },
  "language_info": {
   "codemirror_mode": {
    "name": "ipython",
    "version": 3
   },
   "file_extension": ".py",
   "mimetype": "text/x-python",
   "name": "python",
   "nbconvert_exporter": "python",
   "pygments_lexer": "ipython3",
   "version": "3.10.16"
  }
 },
 "nbformat": 4,
 "nbformat_minor": 2
}
