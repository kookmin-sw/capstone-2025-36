{
 "cells": [
  {
   "cell_type": "code",
   "execution_count": 5,
   "metadata": {},
   "outputs": [
    {
     "name": "stdout",
     "output_type": "stream",
     "text": [
      "✅ JSON 및 WAV 파일 분류 및 저장 완료.\n"
     ]
    }
   ],
   "source": [
    "import os\n",
    "import json\n",
    "import re\n",
    "import shutil\n",
    "\n",
    "# 데이터셋 경로 (training + validation)\n",
    "data_dirs = [\n",
    "    # \"/data/seungmin/dataset/kr_univ_lec/training/labels/eng\",\n",
    "    \"/data/seungmin/dataset/kr_univ_lec/validation/labels/eng\"\n",
    "]\n",
    "\n",
    "# 원본 wav 파일이 저장된 상위 경로\n",
    "source_audio_base = \"/data/seungmin/dataset/kr_univ_lec/validation/source/eng/arch\"\n",
    "\n",
    "# 저장할 경로\n",
    "output_dirs = {\n",
    "    # \"train_and\": \"/data/seungmin/dataset/kr_univ_training_processed/number_and_english\",\n",
    "    \"valid_and\": \"/data/seungmin/dataset/kr_univ_validation_processed/number_and_english\",\n",
    "    # \"train_or\": \"/data/seungmin/dataset/kr_univ_training_processed/number_or_english\",\n",
    "    \"valid_or\": \"/data/seungmin/dataset/kr_univ_validation_processed/number_or_english\",\n",
    "}\n",
    "\n",
    "# 디렉토리 생성\n",
    "for path in output_dirs.values():\n",
    "    os.makedirs(path, exist_ok=True)\n",
    "\n",
    "# 숫자와 영어 포함 여부 확인 함수\n",
    "def has_number_and_english(text):\n",
    "    return bool(re.search(r'\\d', text)) and bool(re.search(r'[A-Za-z]', text))\n",
    "\n",
    "def has_number_or_english(text):\n",
    "    return bool(re.search(r'[A-Za-z0-9]', text))\n",
    "\n",
    "# 파일 처리\n",
    "for data_dir in data_dirs:\n",
    "    dataset_type = \"train\" if \"training\" in data_dir else \"valid\"\n",
    "\n",
    "    for root, _, files in os.walk(data_dir):\n",
    "        for file in files:\n",
    "            if file.endswith('.json') and not file.startswith('._'):\n",
    "                json_path = os.path.join(root, file)\n",
    "\n",
    "                # JSON 파일 읽기\n",
    "                with open(json_path, 'r', encoding='utf-8') as f:\n",
    "                    data = json.load(f)\n",
    "\n",
    "                # 발화 텍스트 가져오기\n",
    "                text = data.get(\"06_transcription\", {}).get(\"1_text\", \"\").strip()\n",
    "\n",
    "                # 상대경로 기반 고유 파일명 생성\n",
    "                relative_path = os.path.relpath(root, data_dir)\n",
    "                unique_name = relative_path.replace(os.sep, '_') + '_' + file\n",
    "                \n",
    "                # JSON 파일에서 wav 경로 찾기\n",
    "                wav_filename = file.replace('.json', '.wav')  # JSON과 매칭되는 wav 파일 이름\n",
    "                lecture_id = relative_path.split(os.sep)[-1]  # Cxxxxx 형태의 강의 ID 추출\n",
    "                wav_abs_path = os.path.join(source_audio_base, lecture_id, wav_filename)\n",
    "\n",
    "                # 숫자 AND 영어 포함된 데이터\n",
    "                if has_number_and_english(text):\n",
    "                    target_json_path = os.path.join(output_dirs[f\"{dataset_type}_and\"], unique_name)\n",
    "                    target_wav_path = os.path.join(output_dirs[f\"{dataset_type}_and\"], unique_name.replace('.json', '.wav'))\n",
    "\n",
    "                    shutil.copy2(json_path, target_json_path)\n",
    "                    if os.path.exists(wav_abs_path):\n",
    "                        shutil.copy2(wav_abs_path, target_wav_path)\n",
    "\n",
    "                # 숫자 OR 영어 포함된 데이터 (AND 제외)\n",
    "                elif has_number_or_english(text):\n",
    "                    target_json_path_or = os.path.join(output_dirs[f\"{dataset_type}_or\"], unique_name)\n",
    "                    target_wav_path_or = os.path.join(output_dirs[f\"{dataset_type}_or\"], unique_name.replace('.json', '.wav'))\n",
    "\n",
    "                    shutil.copy2(json_path, target_json_path_or)\n",
    "                    if os.path.exists(wav_abs_path):\n",
    "                        shutil.copy2(wav_abs_path, target_wav_path_or)\n",
    "\n",
    "print(\"JSON 및 WAV 파일 분류 및 저장 완료.\")\n"
   ]
  }
 ],
 "metadata": {
  "kernelspec": {
   "display_name": "seungmin_venv",
   "language": "python",
   "name": "python3"
  },
  "language_info": {
   "codemirror_mode": {
    "name": "ipython",
    "version": 3
   },
   "file_extension": ".py",
   "mimetype": "text/x-python",
   "name": "python",
   "nbconvert_exporter": "python",
   "pygments_lexer": "ipython3",
   "version": "3.10.16"
  }
 },
 "nbformat": 4,
 "nbformat_minor": 2
}
