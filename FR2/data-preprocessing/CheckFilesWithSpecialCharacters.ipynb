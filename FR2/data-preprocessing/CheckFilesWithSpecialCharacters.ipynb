{
 "cells": [
  {
   "cell_type": "code",
   "execution_count": null,
   "metadata": {},
   "outputs": [
    {
     "name": "stdout",
     "output_type": "stream",
     "text": [
      "📌 특수기호가 포함된 파일 개수: 0\n",
      "🔍 발견된 특수기호: set()\n",
      "📝 샘플 파일 목록: []\n"
     ]
    }
   ],
   "source": [
    "# ----------------txt------------- 파일에 대한 전처리 확인\n",
    "\n",
    "import os\n",
    "import re\n",
    "\n",
    "# 데이터셋 경로\n",
    "data_dir = \"/data/seungmin/dataset/k-12_preprocessed\"\n",
    "\n",
    "# 허용된 문장부호 (기본적인 문장부호 . , ? ! 만 허용)\n",
    "allowed_punctuation = set(\". , ? !\")\n",
    "\n",
    "# 특수문자 검출 함수\n",
    "def has_unwanted_symbols(text):\n",
    "    # 알파벳, 숫자, 공백, 허용된 문장부호를 제외한 모든 문자 찾기\n",
    "    unwanted_chars = re.findall(r\"[^A-Za-z0-9\\s.,?!]\", text)\n",
    "    return set(unwanted_chars) if unwanted_chars else None\n",
    "\n",
    "# 특수기호가 포함된 파일 카운트\n",
    "files_with_symbols = []\n",
    "unwanted_symbols_set = set()  # 발견된 특수기호 저장\n",
    "\n",
    "for root, _, files in os.walk(data_dir):\n",
    "    for file in files:\n",
    "        if file.endswith('.txt') and not file.startswith('._'):\n",
    "            txt_file_path = os.path.join(root, file)\n",
    "\n",
    "            with open(txt_file_path, 'r', encoding='utf-8') as f:\n",
    "                text = f.read().strip()\n",
    "\n",
    "            symbols = has_unwanted_symbols(text)\n",
    "            if symbols:\n",
    "                files_with_symbols.append(txt_file_path)\n",
    "                unwanted_symbols_set.update(symbols)\n",
    "\n",
    "# 결과 출력\n",
    "print(\"특수기호가 포함된 파일 개수:\", len(files_with_symbols))\n",
    "print(\"발견된 특수기호:\", unwanted_symbols_set)\n",
    "print(\"샘플 파일 목록:\", files_with_symbols[:5])  # 일부 샘플만 출력\n"
   ]
  },
  {
   "cell_type": "code",
   "execution_count": 3,
   "metadata": {},
   "outputs": [
    {
     "name": "stdout",
     "output_type": "stream",
     "text": [
      "📌 특수기호가 포함된 JSON 파일 개수: 2178\n",
      "🔍 발견된 특수기호: {'_', '℃', '=', '△', '\\\\', 'ㅛ', '`', '－', 'ω', '㎡', '√', '𝑠', '€', '>', 'ㅇ', 'ㄴ', '&', 'Δ', '%', 'θ', '~', '𝝿', '°', 'σ', '˚', '㎜', '÷', 'π', ')', '$', 'º', 'ㅎ', '㎥', 'δ', '㎞', '-', '＋', '×', 'ㅊ', 'μ', '𝑨', '#', 'ㅅ', 'τ', '(', '²', '∞', '–'}\n",
      "📝 샘플 JSON 파일 목록: ['/data/seungmin/dataset/kr_univ_training_processed/number_and_english/arch_C03105_U00678.json', '/data/seungmin/dataset/kr_univ_training_processed/number_and_english/arch_C02299_U00488.json', '/data/seungmin/dataset/kr_univ_training_processed/number_and_english/arch_C06621_U00502.json', '/data/seungmin/dataset/kr_univ_training_processed/number_and_english/arch_C03105_U00660.json', '/data/seungmin/dataset/kr_univ_training_processed/number_and_english/arch_C03971_U00113.json']\n"
     ]
    }
   ],
   "source": [
    "# ----------------json------------- 파일에 대한 전처리 확인\n",
    "\n",
    "import os\n",
    "import re\n",
    "import json\n",
    "\n",
    "# 데이터셋 경로\n",
    "data_dirs = [\"/data/seungmin/dataset/kr_univ_training_processed/number_and_english\",\n",
    "            \"/data/seungmin/dataset/kr_univ_training_processed/number_or_english\",\n",
    "            \"/data/seungmin/dataset/kr_univ_validation_processed/number_and_english\",\n",
    "            \"/data/seungmin/dataset/kr_univ_validation_processed/number_or_english\",]\n",
    "\n",
    "# 허용된 문장부호 (. , ? ! 만 허용)\n",
    "allowed_punctuation = set(\". , ? !\")\n",
    "\n",
    "# 특수문자 검출 함수 (한글 허용 추가)\n",
    "def has_unwanted_symbols(text):\n",
    "    # 알파벳, 숫자, 한글, 공백, 허용된 문장부호를 제외한 모든 문자 찾기\n",
    "    unwanted_chars = re.findall(r\"[^A-Za-z0-9가-힣\\s.,?!]\", text)\n",
    "    return set(unwanted_chars) if unwanted_chars else None\n",
    "\n",
    "# 특수기호가 포함된 파일 카운트\n",
    "files_with_symbols = []\n",
    "unwanted_symbols_set = set()  # 발견된 특수기호 저장\n",
    "\n",
    "for data_dir in data_dirs:\n",
    "    for root, _, files in os.walk(data_dir):\n",
    "        for file in files:\n",
    "            if file.endswith('.json') and not file.startswith('._'):\n",
    "                json_file_path = os.path.join(root, file)\n",
    "\n",
    "                with open(json_file_path, 'r', encoding='utf-8') as f:\n",
    "                    data = json.load(f)\n",
    "\n",
    "                # \"1_text\" 필드가 있는 경우에만 검사\n",
    "                if \"06_transcription\" in data and \"1_text\" in data[\"06_transcription\"]:\n",
    "                    text = data[\"06_transcription\"][\"1_text\"].strip()\n",
    "\n",
    "                    symbols = has_unwanted_symbols(text)\n",
    "                    if symbols:\n",
    "                        files_with_symbols.append(json_file_path)\n",
    "                        unwanted_symbols_set.update(symbols)\n",
    "\n",
    "# 결과 출력\n",
    "print(\"특수기호가 포함된 JSON 파일 개수:\", len(files_with_symbols))\n",
    "print(\"발견된 특수기호:\", unwanted_symbols_set)\n",
    "print(\"샘플 JSON 파일 목록:\", files_with_symbols[:5])  # 일부 샘플만 출력\n"
   ]
  }
 ],
 "metadata": {
  "kernelspec": {
   "display_name": "seungmin_venv",
   "language": "python",
   "name": "python3"
  },
  "language_info": {
   "codemirror_mode": {
    "name": "ipython",
    "version": 3
   },
   "file_extension": ".py",
   "mimetype": "text/x-python",
   "name": "python",
   "nbconvert_exporter": "python",
   "pygments_lexer": "ipython3",
   "version": "3.10.16"
  }
 },
 "nbformat": 4,
 "nbformat_minor": 2
}
