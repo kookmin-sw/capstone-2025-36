{
 "cells": [
  {
   "cell_type": "code",
   "execution_count": 3,
   "metadata": {},
   "outputs": [
    {
     "name": "stdout",
     "output_type": "stream",
     "text": [
      "숫자 and 영어가 포함된 파일의 개수: 47134\n",
      "샘플: ['/data/seungmin/dataset/k-12/Training-label/D02/H02/S000048/000461.txt', '/data/seungmin/dataset/k-12/Training-label/D02/H02/S000048/000104.txt', '/data/seungmin/dataset/k-12/Training-label/D02/H02/S000048/000218.txt', '/data/seungmin/dataset/k-12/Training-label/D02/H02/S000048/000196.txt', '/data/seungmin/dataset/k-12/Training-label/D02/H02/S000048/000333.txt']\n"
     ]
    }
   ],
   "source": [
    "import os\n",
    "import re\n",
    "\n",
    "# 데이터셋 디렉토리 지정\n",
    "data_dir = \"/data/seungmin/dataset/k-12/Training-label\"\n",
    "\n",
    "# 말더듬음 제거 함수\n",
    "def remove_stutters(text):\n",
    "    return re.sub(r\"\\b[a-zA-Z]+/\", \"\", text)\n",
    "\n",
    "''''''\n",
    "# 숫자 또는 영어가 포함되었는지 확인하는 함수\n",
    "def has_number_or_english(text):\n",
    "    return bool(re.search(r'[A-Za-z0-9]', text))\n",
    "\n",
    "# 숫자와 영어가 모두 포함되었는지 확인하는 함수\n",
    "def has_both_number_and_english(text):\n",
    "    has_number = bool(re.search(r'[0-9]', text))\n",
    "    has_english = bool(re.search(r'[A-Za-z]', text))\n",
    "    return has_number and has_english  # 둘 다 포함될 때만 True\n",
    "''''''\n",
    "\n",
    "# 필터링된 파일 카운트\n",
    "filtered_files = []\n",
    "\n",
    "for root, _, files in os.walk(data_dir):\n",
    "    for file in files:\n",
    "        if file.endswith('.txt') and not file.startswith('._'):\n",
    "            with open(os.path.join(root, file), 'r', encoding='utf-8') as f:\n",
    "                text = f.read().strip()\n",
    "                processed_text = remove_stutters(text)\n",
    "                \n",
    "                # 숫자 or 영어\n",
    "                # if has_number_or_english(processed_text):\n",
    "                \n",
    "                # 숫자 and 영어\n",
    "                if has_both_number_and_english(processed_text):  # 숫자+영어 포함된 경우만 카운트\n",
    "                    \n",
    "                    filtered_files.append(os.path.join(root, file))\n",
    "\n",
    "print(\"숫자 and 영어가 포함된 파일의 개수:\", len(filtered_files))\n",
    "print(\"샘플:\", filtered_files[:5])\n"
   ]
  },
  {
   "cell_type": "code",
   "execution_count": 2,
   "metadata": {},
   "outputs": [
    {
     "name": "stdout",
     "output_type": "stream",
     "text": [
      "숫자 or 영어가 포함된 파일의 개수: 107883\n",
      "샘플: ['/data/seungmin/dataset/k-12/Training-label/D02/H02/S000048/000264.txt', '/data/seungmin/dataset/k-12/Training-label/D02/H02/S000048/000461.txt', '/data/seungmin/dataset/k-12/Training-label/D02/H02/S000048/000104.txt', '/data/seungmin/dataset/k-12/Training-label/D02/H02/S000048/000415.txt', '/data/seungmin/dataset/k-12/Training-label/D02/H02/S000048/000218.txt']\n"
     ]
    }
   ],
   "source": [
    "import os\n",
    "import re\n",
    "\n",
    "# 데이터셋 디렉토리 지정\n",
    "data_dir = \"/data/seungmin/dataset/k-12/Training-label\"\n",
    "\n",
    "# 말더듬음 제거 함수\n",
    "def remove_stutters(text):\n",
    "    return re.sub(r\"\\b[a-zA-Z]+/\", \"\", text)\n",
    "\n",
    "''''''\n",
    "# 숫자 또는 영어가 포함되었는지 확인하는 함수\n",
    "def has_number_or_english(text):\n",
    "    return bool(re.search(r'[A-Za-z0-9]', text))\n",
    "\n",
    "# 숫자와 영어가 모두 포함되었는지 확인하는 함수\n",
    "def has_both_number_and_english(text):\n",
    "    has_number = bool(re.search(r'[0-9]', text))\n",
    "    has_english = bool(re.search(r'[A-Za-z]', text))\n",
    "    return has_number and has_english  # 둘 다 포함될 때만 True\n",
    "\n",
    "''''''\n",
    "# 필터링된 파일 카운트\n",
    "filtered_files = []\n",
    "\n",
    "for root, _, files in os.walk(data_dir):\n",
    "    for file in files:\n",
    "        if file.endswith('.txt') and not file.startswith('._'):\n",
    "            with open(os.path.join(root, file), 'r', encoding='utf-8') as f:\n",
    "                text = f.read().strip()\n",
    "                processed_text = remove_stutters(text)\n",
    "                \n",
    "                # 숫자 or 영어\n",
    "                if has_number_or_english(processed_text):\n",
    "                \n",
    "                # 숫자 and 영어\n",
    "                # if has_both_number_and_english(processed_text):  # 숫자+영어 포함된 경우만 카운트\n",
    "                    \n",
    "                    filtered_files.append(os.path.join(root, file))\n",
    "\n",
    "print(\"숫자 or 영어가 포함된 파일의 개수:\", len(filtered_files))\n",
    "print(\"샘플:\", filtered_files[:5])\n"
   ]
  },
  {
   "cell_type": "code",
   "execution_count": 17,
   "metadata": {},
   "outputs": [
    {
     "name": "stdout",
     "output_type": "stream",
     "text": [
      "📌 총 wav 파일 수: 1382\n",
      "count    1382.000000\n",
      "mean        8.298263\n",
      "std         3.813924\n",
      "min         0.887312\n",
      "50%         7.967688\n",
      "95%        14.707934\n",
      "99%        18.920300\n",
      "max        24.480000\n",
      "Name: speech_length, dtype: float64\n"
     ]
    },
    {
     "data": {
      "image/png": "[encoded data removed]",
      "text/plain": [
       "<Figure size 1000x500 with 1 Axes>"
      ]
     },
     "metadata": {},
     "output_type": "display_data"
    },
    {
     "name": "stdout",
     "output_type": "stream",
     "text": [
      "❌ 오류 발생 파일 수: 0\n"
     ]
    }
   ],
   "source": [
    "import os\n",
    "import torchaudio\n",
    "import pandas as pd\n",
    "import matplotlib.pyplot as plt\n",
    "\n",
    "# 디렉토리 경로\n",
    "data_dir = \"/data/seungmin/dataset/k12_validation_processed/number_and_english\"\n",
    "\n",
    "# 길이 저장 리스트\n",
    "wav_lengths = []\n",
    "error_files = []\n",
    "\n",
    "# 파일 순회\n",
    "for file in os.listdir(data_dir):\n",
    "    if file.endswith(\".wav\"):\n",
    "        wav_path = os.path.join(data_dir, file)\n",
    "        try:\n",
    "            waveform, sample_rate = torchaudio.load(wav_path)\n",
    "            duration = waveform.shape[1] / sample_rate  # 초 단위\n",
    "            wav_lengths.append(duration)\n",
    "        except Exception as e:\n",
    "            print(f\"⚠️ 오류 발생: {file} - {e}\")\n",
    "            error_files.append(file)\n",
    "\n",
    "# 통계 및 시각화\n",
    "df = pd.DataFrame({\"speech_length\": wav_lengths})\n",
    "print(\"📌 총 wav 파일 수:\", len(wav_lengths))\n",
    "print(df[\"speech_length\"].describe(percentiles=[0.95, 0.99]))\n",
    "\n",
    "import matplotlib.pyplot as plt\n",
    "import matplotlib.cm as cm\n",
    "\n",
    "plt.figure(figsize=(10, 5), facecolor=\"white\")  # ← 배경 흰색 지정\n",
    "plt.hist(\n",
    "    df[\"speech_length\"],\n",
    "    bins=50,\n",
    "    edgecolor=\"black\",\n",
    "    color=\"gray\",       # ← 막대 색 회색\n",
    "    alpha=1.0\n",
    ")\n",
    "plt.xlabel(\"wav length (sec)\")\n",
    "plt.ylabel(\"file nums\")\n",
    "plt.grid(color=\"black\", alpha=0.3)\n",
    "plt.show()\n",
    "\n",
    "\n",
    "print(f\"오류 발생 파일 수: {len(error_files)}\")\n",
    "if error_files:\n",
    "    print(\"오류 예시:\", error_files[:5])\n"
   ]
  }
 ],
 "metadata": {
  "kernelspec": {
   "display_name": "seungmin_venv",
   "language": "python",
   "name": "python3"
  },
  "language_info": {
   "codemirror_mode": {
    "name": "ipython",
    "version": 3
   },
   "file_extension": ".py",
   "mimetype": "text/x-python",
   "name": "python",
   "nbconvert_exporter": "python",
   "pygments_lexer": "ipython3",
   "version": "3.10.16"
  }
 },
 "nbformat": 4,
 "nbformat_minor": 2
}
